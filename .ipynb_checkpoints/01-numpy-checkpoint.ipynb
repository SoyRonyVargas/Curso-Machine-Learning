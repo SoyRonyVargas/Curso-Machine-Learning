{
 "cells": [
  {
   "cell_type": "code",
   "execution_count": 1,
   "id": "d51715cf-32a7-4c11-82ae-9f169776f18b",
   "metadata": {},
   "outputs": [
    {
     "name": "stdout",
     "output_type": "stream",
     "text": [
      "[1 2 3]\n",
      "[0 1 2 3 4 5]\n"
     ]
    }
   ],
   "source": [
    "import numpy as np\n",
    "\n",
    "# CREAR UN ARRAY 1D\n",
    "z = np.array([1 , 2 , 3])\n",
    "\n",
    "print(z)\n"
   ]
  },
  {
   "cell_type": "code",
   "execution_count": 3,
   "id": "c2500f4d-3dd0-43e4-ae41-b8c72d8482f8",
   "metadata": {},
   "outputs": [
    {
     "name": "stdout",
     "output_type": "stream",
     "text": [
      "[[1 2 3]\n",
      " [4 5 6]]\n"
     ]
    }
   ],
   "source": [
    "# Crear un array 2D\n",
    "array2D = np.array([ [1 , 2 , 3 ] , [4,5,6]])\n",
    "print(array2D)"
   ]
  },
  {
   "cell_type": "code",
   "execution_count": 4,
   "id": "354366bb",
   "metadata": {},
   "outputs": [
    {
     "name": "stdout",
     "output_type": "stream",
     "text": [
      "[0 1 2 3 4 5]\n"
     ]
    }
   ],
   "source": [
    "# genera un array de rango de numeros\n",
    "\n",
    "a = np.arange(6)\n",
    "\n",
    "print(a)"
   ]
  },
  {
   "cell_type": "code",
   "execution_count": 9,
   "id": "75212f2a",
   "metadata": {},
   "outputs": [
    {
     "name": "stdout",
     "output_type": "stream",
     "text": [
      "[0. 0. 0. 0. 0.]\n"
     ]
    }
   ],
   "source": [
    "# CREAR UN ARRAY DE CEROS\n",
    "zeros = np.zeros(5)\n",
    "print(zeros)"
   ]
  },
  {
   "cell_type": "code",
   "execution_count": 10,
   "id": "6f93784e",
   "metadata": {},
   "outputs": [
    {
     "name": "stdout",
     "output_type": "stream",
     "text": [
      "[1. 1. 1. 1. 1.]\n"
     ]
    }
   ],
   "source": [
    "# CREAR UN ARRAY DE UNOS\n",
    "unos = np.ones(5)\n",
    "print(unos)"
   ]
  },
  {
   "cell_type": "code",
   "execution_count": 11,
   "id": "2ba8d7ba",
   "metadata": {},
   "outputs": [
    {
     "name": "stdout",
     "output_type": "stream",
     "text": [
      "[0.         0.11111111 0.22222222 0.33333333 0.44444444 0.55555556\n",
      " 0.66666667 0.77777778 0.88888889 1.        ]\n"
     ]
    }
   ],
   "source": [
    "# DIVIDIR UNIFORMEMENTE UN ARRAY\n",
    "division = np.linspace( 0. , 1 , 10 )\n",
    "print(division)"
   ]
  },
  {
   "cell_type": "code",
   "execution_count": 13,
   "id": "29ce5eae",
   "metadata": {},
   "outputs": [
    {
     "name": "stdout",
     "output_type": "stream",
     "text": [
      "[[1. 0. 0. 0. 0. 0. 0. 0. 0. 0.]\n",
      " [0. 1. 0. 0. 0. 0. 0. 0. 0. 0.]\n",
      " [0. 0. 1. 0. 0. 0. 0. 0. 0. 0.]\n",
      " [0. 0. 0. 1. 0. 0. 0. 0. 0. 0.]\n",
      " [0. 0. 0. 0. 1. 0. 0. 0. 0. 0.]\n",
      " [0. 0. 0. 0. 0. 1. 0. 0. 0. 0.]\n",
      " [0. 0. 0. 0. 0. 0. 1. 0. 0. 0.]\n",
      " [0. 0. 0. 0. 0. 0. 0. 1. 0. 0.]\n",
      " [0. 0. 0. 0. 0. 0. 0. 0. 1. 0.]\n",
      " [0. 0. 0. 0. 0. 0. 0. 0. 0. 1.]]\n"
     ]
    }
   ],
   "source": [
    "# ARREGLO DE IDENTIDAD\n",
    "identidad = np.eye(10)\n",
    "print(identidad)"
   ]
  },
  {
   "cell_type": "code",
   "execution_count": 17,
   "id": "356fe349",
   "metadata": {},
   "outputs": [
    {
     "name": "stdout",
     "output_type": "stream",
     "text": [
      "[0.02086363 0.95216064 0.48554905 0.04926611 0.47439973 0.57764012\n",
      " 0.8632376  0.13056976 0.27180647 0.91508392]\n"
     ]
    }
   ],
   "source": [
    "# CREAR NUMEROS ALEATORIOS EN PYTHON\n",
    "rands = np.random.rand(10)\n",
    "print(rands)"
   ]
  },
  {
   "cell_type": "code",
   "execution_count": 29,
   "id": "90923038",
   "metadata": {},
   "outputs": [
    {
     "name": "stdout",
     "output_type": "stream",
     "text": [
      "(6,)\n",
      "(3, 2)\n",
      "[[0 1]\n",
      " [2 3]\n",
      " [4 5]]\n"
     ]
    }
   ],
   "source": [
    "# TRANSFORMA EL ARREGLO EN FORMA DIFERENTE\n",
    "#2x3\n",
    "arreglo = np.array(np.arange(0 , 6))\n",
    "print(arreglo.shape)\n",
    "arreglo = arreglo.reshape(3,2)\n",
    "# devuelve la forma\n",
    "print(arreglo.shape)\n",
    "print(arreglo)"
   ]
  },
  {
   "cell_type": "code",
   "execution_count": 31,
   "id": "8f8fd619",
   "metadata": {},
   "outputs": [
    {
     "name": "stdout",
     "output_type": "stream",
     "text": [
      "0\n"
     ]
    }
   ],
   "source": [
    "# ENCONTRAR EL VALOR MAXIMO DEL ARRAY\n",
    "maximo = arreglo.max()\n",
    "print(maximo)"
   ]
  },
  {
   "cell_type": "code",
   "execution_count": null,
   "id": "9a8cc673",
   "metadata": {},
   "outputs": [],
   "source": [
    "# ENCONTRAR EL INDICE DEL MINIMO VALOR DEL ARRAY\n",
    "arregl"
   ]
  }
 ],
 "metadata": {
  "kernelspec": {
   "display_name": "Python 3 (ipykernel)",
   "language": "python",
   "name": "python3"
  },
  "language_info": {
   "codemirror_mode": {
    "name": "ipython",
    "version": 3
   },
   "file_extension": ".py",
   "mimetype": "text/x-python",
   "name": "python",
   "nbconvert_exporter": "python",
   "pygments_lexer": "ipython3",
   "version": "3.11.7"
  }
 },
 "nbformat": 4,
 "nbformat_minor": 5
}
